{
 "cells": [
  {
   "cell_type": "markdown",
   "id": "ee91f39a",
   "metadata": {},
   "source": [
    "# Licht messen und auswerten\n",
    "\n",
    "In dieser Lektion lernen wir, wie man die Lichtstärke mit Hilfe eines Lichtsensor (APDS-9002) misst und erkennt.\n",
    "Aber zuerst: Was ist ein Lichtsensor und wie funktioniert er?\n",
    "\n",
    "![Der Licht-Sensor des RPi](img/light_sensor.png)\n",
    "\n",
    "Der Lichtsensor auf dem CrowPi2 ist ein wenig schwer zu erkennen, er befindet sich befindet sich zwischen der _RFID_ und dem _LCD_, auf dem _PCB_ steht _light sensor_.\n",
    "\n",
    "Der Lichtsensor verwendet einen Lichtstromsensor, und reflektiert die Lichtstärke der Umgebung durch den den linearen Ausgangspegel, der direkt die Veränderung des Lichtstroms widerspiegeln kann.\n",
    "Das Licht-Spektrum des Sensors ist dem des menschlichen Auges sehr ähnlich.\n",
    "Das sit zum Beispiel für den Einsatz der im Bereich der künstlichen Intelligenz nützlich.\n",
    "Der Sensor ist weit verbreitet in der Landwirtschaft, Forstwirtschaft, Gewächshäusern, Zucht, Gebäudebeleuchtung, Messung und Forschung.\n",
    "\n",
    "Zur Steuerung des Lichtsensors verwenden wir das _12C-Protokoll_.\n",
    "Um die die ganze Sache einfacher zu machen, werden wir eine Bibliothek namens `sm bus` verwenden, um direkt auf _12C_ zuzugreifen und die Daten zu erhalten.\n",
    "Dafür haben wir eine eine spezielle Klasse erstellt.....\n",
    "Aber jetzt wird alles die Schritt für Schritt erklärt.\n",
    "\n",
    "## Wann gehst du schlafen?\n",
    "\n",
    "In unserem Beispiel nehmen wir das Szenario der _Schlafenszeitbenachrichtigung_.\n",
    "Woher weist du, dass es Zeit ist, ins Bett zu gehen?\n",
    "Wenn es es dunkel wird, weist du, dass es Nacht ist und gehst schlafen.\n",
    "Wir verwenden den Lichtsensor, um zu erkennen, ob es dunkler wird und senden eine Alarmbenachrichtigung mit dem _Buzzer_, damit du weißt, dass es Zeit zum Schlafen ist - Wie ein umgekehrter Wecker.\n",
    "Gleichzeitig werden wir die Situation mit Hilfe des _LCD_ überwachen, wie wir es in unseren vorherigen Lektionen getan haben.\n",
    "\n",
    "Zunächst importieren wir die erforderlichen Bibliotheken.\n",
    "Wir haben bereits die LCD-Bibliothek, die GPIO-Bibliothek und die Zeitbibliothek erwähnt.\n",
    "Jetzt importieren wir auch eine neue Bibliothek namens `smbus` um mit dem 12C-Protokoll zu kommunizieren."
   ]
  },
  {
   "cell_type": "code",
   "execution_count": null,
   "id": "12703a75",
   "metadata": {},
   "outputs": [],
   "source": [
    "import Adafruit_CharLCD as LCD\n",
    "import RPi.GPIO as GPIO\n",
    "import smbus\n",
    "import time"
   ]
  },
  {
   "cell_type": "markdown",
   "id": "95b6779c",
   "metadata": {},
   "source": [
    "Es mehrere Arten von Raspberry Pi, zum Beispiel Raspberry Pi 3, 4 und Zero.\n",
    "Jede hat eine andere Hardware-Architektur und verschiedene Möglichkeiten, auf den _Bustreiber_ zuzugreifen.\n",
    "Um den richtigen Weg zu wählen, müssen wir die _Revision_ des Raspberry Pi herausfinden.\n",
    "Glücklicherweise können wir dies mit dem folgenden Code automatisieren:"
   ]
  },
  {
   "cell_type": "code",
   "execution_count": null,
   "id": "d837f1dd",
   "metadata": {},
   "outputs": [],
   "source": [
    "if(GPIO.RPI_REVISION == 1):\n",
    "    bus = smbus.SMBus(0)\n",
    "else:\n",
    "    bus = smbus.SMBus(1)"
   ]
  },
  {
   "cell_type": "markdown",
   "id": "1018b80c",
   "metadata": {},
   "source": [
    "Dies wird automatisch den richtigen Treiber für uns auswählen, basierend auf der GPIO-Architektur des Raspberry Pi, den wir verwenden.\n",
    "Als nächstes definieren wir den Summer, der uns benachrichtigen soll, wenn das das Licht zu schwach wird, was bedeutet, dass es für uns Zeit ist, ins Bett zu gehen."
   ]
  },
  {
   "cell_type": "code",
   "execution_count": null,
   "id": "8ae0cee3",
   "metadata": {},
   "outputs": [],
   "source": [
    "buzzer_pin = 18\n",
    "GPIO.setmode(GPIO.BCM)\n",
    "GPIO.setup(buzzer_pin, GPIO.OUT)"
   ]
  },
  {
   "cell_type": "markdown",
   "id": "35a6807f",
   "metadata": {},
   "source": [
    "Zuvor haben wir die LCD-Klasse erstellt, um den LCD-Monitor zu steuern, schreiben wir die Klasse erneut, damit wir auf dem LCD-Monitor die Menge an Licht im Raum anzeigen können.\n",
    "Definieren wir zunächst die Klasse mit den LCD-Eigenschaften wie Adresse, Spalten und Zeilen:"
   ]
  },
  {
   "cell_type": "code",
   "execution_count": null,
   "id": "9d158dce",
   "metadata": {},
   "outputs": [],
   "source": [
    "class LCDModule():\n",
    "    def __init__(self):\n",
    "    # Define LCD column and row size for 16x2 LCD.\n",
    "    self.address = 0x21\n",
    "    self.lcd_columns = 16\n",
    "    self.lcd_rows = 2\n",
    "    # Initialize the LCD using the pins\n",
    "    self.led = LCD.Adafruit_CharLCDBackpack(address=self.address)"
   ]
  },
  {
   "cell_type": "markdown",
   "id": "deb8a5f6",
   "metadata": {},
   "source": [
    "Definieren wir nun die Funktion `turn_off` um die LCD Hintergrundbeleuchtung auszuschalten."
   ]
  },
  {
   "cell_type": "code",
   "execution_count": null,
   "id": "17be4f57",
   "metadata": {},
   "outputs": [],
   "source": [
    "def turn_off(self):\n",
    "    # Turn back light off\n",
    "    self.lcd.set_backlight(1)"
   ]
  },
  {
   "cell_type": "markdown",
   "id": "41165864",
   "metadata": {},
   "source": [
    "Wir haben das Ausschalten hinzugefügt, jetzt fügen wir die Funktion `turn_on` hinzu, um um die Hintergrundbeleuchtung einzuschalten."
   ]
  },
  {
   "cell_type": "code",
   "execution_count": null,
   "id": "05eaf336",
   "metadata": {},
   "outputs": [],
   "source": [
    "def turn_on(self):\n",
    "    # Turn back light on\n",
    "    self.lcd.set_backlight(0)"
   ]
  },
  {
   "cell_type": "markdown",
   "id": "5a676491",
   "metadata": {},
   "source": [
    "Fügen wir eine Funktion zum Löschen des LCD-Monitors hinzu."
   ]
  },
  {
   "cell_type": "code",
   "execution_count": null,
   "id": "02ad1823",
   "metadata": {},
   "outputs": [],
   "source": [
    "def clear(self):\n",
    "    # clear the LCD screen\n",
    "    self.led.clear()"
   ]
  },
  {
   "cell_type": "markdown",
   "id": "b04cbdbc",
   "metadata": {},
   "source": [
    "Die letzte Funktion ist die Funktion `write_lcd`, die unsere Daten in den LCD-Monitor schreibt."
   ]
  },
  {
   "cell_type": "code",
   "execution_count": null,
   "id": "54967869",
   "metadata": {},
   "outputs": [],
   "source": [
    "def write_lcd(self,text):\n",
    "    # turn on LCD\n",
    "    self.turn_on ()\n",
    "    # wait 0.1 seconds\n",
    "    time.sleep(0.1)\n",
    "    # Print a two line message\n",
    "    self.lcd.message(text)\n",
    "    # wait 3 seconds\n",
    "    time.sleep(1)\n",
    "    # clear screen\n",
    "    self.clear()\n",
    "    # wait 0.1 seconds\n",
    "    time.sleep(0.1)\n",
    "    # turn off LCD\n",
    "    self.turn_off()"
   ]
  },
  {
   "cell_type": "markdown",
   "id": "eba67553",
   "metadata": {},
   "source": [
    "Eine neue Klasse, die wir hinzufügen müssen, ist eine Klasse, um Lichtmenge vom Lichtsensor zu erhalten.\n",
    "Fügen wir zuerst die Klasse ein und erklären dann, was vor sich geht."
   ]
  },
  {
   "cell_type": "code",
   "execution_count": null,
   "id": "dc9b0b55",
   "metadata": {},
   "outputs": [],
   "source": [
    "class LightSensor():\n",
    "    def __init__(self):\n",
    "        # Define some constants from the datasheet\n",
    "        self.DEVICE = 0x5c # Default device I2C address\n",
    "        self.POWER_DOWN = 0x00 # No active state\n",
    "        self.POWER_ON = 0x01 # Power on\n",
    "        self.RESET = 0x07 # Reset data register value\n",
    "        # Start measurement at 4lx resolution. Time typically 16ms.\n",
    "        self.CONTINUOUS_LOW_RES_MODE = 0x13\n",
    "        # Start measurement at 1lx resolution. Time typically 120ms\n",
    "        self.CONTINUOUS_HIGH_RES_MODE_1 = 0x10\n",
    "        # Start measurement at 0.5lx resolution. Time typically 120ms\n",
    "        self.CONTINUOUS_HIGH_RES_MODE_2 = 0x11\n",
    "        # Start measurement at 1lx resolution. Time typically 120ms\n",
    "        # Device is automatically set to Power Down after measurement.\n",
    "        self.ONE_TIME_HIGH_RES_MODE_1 = 0x20\n",
    "        # Start measurement at 0.5lx resolution. Time typically 120ms\n",
    "        # Device is automatically set to Power Down after measurement.\n",
    "        self.ONE_TIME_HIGH_RES_MODE_2 = 0x21\n",
    "        # Start measurement at 1lx resolution. Time typically 120ms\n",
    "        # Device is automatically set to Power Down after measurement.\n",
    "        self.ONE_TIME_LOW_RES_MODE = 0x23"
   ]
  },
  {
   "cell_type": "markdown",
   "id": "b8f02d48",
   "metadata": {},
   "source": [
    "Dann wollen wir eine Funktion erstellen, die den vom Lichtsensor erhaltenen Wert Lichtsensor in lesbare Daten umwandelt."
   ]
  },
  {
   "cell_type": "code",
   "execution_count": null,
   "id": "b3b513ef",
   "metadata": {},
   "outputs": [],
   "source": [
    "def convertToNumber(self, data):\n",
    "    # Simple function to convert 2 bytes of data\n",
    "    # into a decimal number\n",
    "    return ((data[1] + (256 * data[0])) / 1.2)"
   ]
  },
  {
   "cell_type": "markdown",
   "id": "225baf77",
   "metadata": {},
   "source": [
    "Zum Schluss schreiben wir die eigentliche Funktion zum Lesen von Daten aus dem Sensor selbst."
   ]
  },
  {
   "cell_type": "code",
   "execution_count": null,
   "id": "db7db04c",
   "metadata": {},
   "outputs": [],
   "source": [
    "def readLight(self):\n",
    "    data = bus.read_i2c_block_data(self.DEVICE,self.ONE_TIME_HIGH_RES_MODE_1)\n",
    "    return self.convertToNumber(data)"
   ]
  },
  {
   "cell_type": "markdown",
   "id": "493fd7fb",
   "metadata": {},
   "source": [
    "## Code-Analyse\n",
    "\n",
    "Der gesamte Code ist sehr deutlich kommentiert, aber lasst es uns trotzdem erklären: wir haben ein paar Funktionen, die wichtigste ist das Lesen des Lichts und dazu benutzen wir den Befehl `bus.read_i2c_block_data`.\n",
    "\n",
    "Die Werte, die wir vom Busdriver erhalten, sagen uns nicht viel also müssen wir sie in eine lesbare Zahl umwandeln.\n",
    "Dafür verwenden wir den `convertToNumber`-Befehl, mit dem wir die Bytes in Dezimalzahlen umwandeln.\n",
    "\n",
    "In der Initialisierungsfunktion der Klasse definieren wir alles, auf das wir auf dem Gerät zugreifen müssen, wie z.B. die Messauflösung, das Ausschalten des Geräts nach der Messung und so weiter....\n",
    "\n",
    "Definieren wir nun eine kleine `buzz()`-Funktion, die den Buzzer anruft, wenn wenn das Licht ausgeht, um uns mitzuteilen, dass es Zeit ist, schlafen zu gehen.\n",
    "\n",
    "## Der Buzzer"
   ]
  },
  {
   "cell_type": "code",
   "execution_count": null,
   "id": "4b084ec1",
   "metadata": {},
   "outputs": [],
   "source": [
    "def buzz():\n",
    "    # Make buzzer sound\n",
    "    GPIO.output(buzzer_pin, GPIO.HIGH)\n",
    "    time.sleep(0.5)\n",
    "    GPIO.output(buzzer_pin, GPIO.LOW)"
   ]
  },
  {
   "cell_type": "markdown",
   "id": "b7d24cbb",
   "metadata": {},
   "source": [
    "Wenn wir die Funktion `buzz()` aufrufen, schaltet sich der Summer für eine halbe Sekunde ein und schaltet sich dann aus, um anzuzeigen, dass es Zeit ist, schlafen zu gehen.\n",
    "\n",
    "Definieren wir nun den Lichtsensor und das LCD zur Überwachung der Messwerte.\n",
    "Wir verwenden die `LightSensor()`-Bibliothek, um das Licht zu messen und die `LCD-Modul`-Bibliothek, um die Daten auf das LCD zu schreiben.\n",
    "Wir konfigurieren auch einen Wert dafür, was für uns schwaches Licht bedeutet indem wir den `low_light`-Wert auf 40 setzen."
   ]
  },
  {
   "cell_type": "code",
   "execution_count": null,
   "id": "8a0763d9",
   "metadata": {},
   "outputs": [],
   "source": [
    "# define light sensor\n",
    "sensor = LightSensor()\n",
    "# define LCD module\n",
    "lcd_screen = LCDModule()\n",
    "# configure low light\n",
    "low_light = 40"
   ]
  },
  {
   "cell_type": "markdown",
   "id": "e05508b0",
   "metadata": {},
   "source": [
    "## Code-Hochzeit\n",
    "\n",
    "Lasst uns nun den Hauptcode schreiben und erklären, was er tut."
   ]
  },
  {
   "cell_type": "code",
   "execution_count": null,
   "id": "81b16534",
   "metadata": {},
   "outputs": [],
   "source": [
    "while True:\n",
    "    sensor_data = sensor.readLight()\n",
    "    lcd_screen.write_lcd(text=\"Light Level:\\n%slx\" % sensor_data)\n",
    "    print(\"Light Level : \" + str(sensor_data) + \" lx\")\n",
    "    if(sensor_data < 40):\n",
    "        # the light level is too low, activate buzzer\n",
    "        buzz()\n",
    "    time.sleep(0.5)"
   ]
  },
  {
   "cell_type": "markdown",
   "id": "850fada0",
   "metadata": {},
   "source": [
    "Zunächst beginnen wir mit einer `while`-Schleife, um die Echtzeitdaten von unserem Lichtsensor kontinuierlich zu erfassen.\n",
    "Dann lesen wir die Sensordaten mit der Funktion `readlight()` und schreiben die Werte auf das LCD, damit wir sie leicht sehen können.\n",
    "Wir geben sie auch auf der Konsole aus.\n",
    "\n",
    "Führen wir endlich das Skript aus und sehen uns die Lichtdaten an, die auf dem Terminal angezeigt werden.\n",
    "Du wirst feststellen, dass der Buzzer dich ans SChlafengehen erinnert, wenn die Lichtdaten im Zimmer niedriger als 40 sind.\n",
    "\n",
    "Großartig!\n",
    "Eine weitere Lektion abgeschlossen!\n",
    "Versuche, die Low-Level-Wertanzeige oder sogar den Code zu ändern, um ihn in einen Morgen-Alarm umzuwandeln, wenn die Sonne wieder aufgeht!"
   ]
  }
 ],
 "metadata": {
  "jupytext": {
   "text_representation": {
    "extension": ".md",
    "format_name": "myst",
    "format_version": 0.13,
    "jupytext_version": "1.10.3"
   }
  },
  "kernelspec": {
   "display_name": "Python 3.9",
   "language": "python",
   "name": "python3"
  },
  "source_map": [
   12,
   45,
   50,
   57,
   62,
   67,
   71,
   76,
   85,
   89,
   93,
   97,
   101,
   105,
   109,
   113,
   129,
   134,
   157,
   161,
   166,
   170,
   174,
   189,
   195,
   203,
   210,
   216,
   225
  ]
 },
 "nbformat": 4,
 "nbformat_minor": 5
}