{
 "cells": [
  {
   "cell_type": "markdown",
   "id": "bd16d773",
   "metadata": {},
   "source": [
    "# GPIO-Pins & Python Grundlagen\n",
    "\n",
    "## GPIO-Pins\n",
    "\n",
    "Bevor wir mit dem Unterricht beginnen, sollten wir etwas über den Raspberry Pi (RPi) wissen: GPIO-Nutzung und die Grundbefehle der Programmiersprache Python3.\n",
    "Der RPi steuert externe Module und Sensoren über Pins, die _GPIO-Pins_ genannt werden.\n",
    "GPIO steht für _General Purpose Input Output_, was bedeutet, dass wir diese Pins für verschiedene Eingabe- und Ausgabebefehle verwenden können.\n",
    "Um die GPIO-Pins zu verwenden, müssen wir zuerst ihren Modus einstellen.\n",
    "Es gibt zwei Modi: der erste Modus ist `GPIO.BCM`, der zweite Modus ist `GPIO.BOARD`.\n",
    "Tauchen wir tiefer ein, um zu verstehen, was diese Modi bedeuten und wie sie funktionieren.\n",
    "\n",
    "![GPIO-Modi des RPi](img/gpio_modes.png)\n",
    "\n",
    "Die Option `GPIO.BOARD` Option gibt an, dass Nummern, die du programmierst den physischen (in der Mitte des Diagramms: _Physical_) entsprechen.\n",
    "Die Option `GPIO.BCM` bedeutet, dass du die Nummern des \"Broadcom SOC channel\" (BCM) zum Programmieren nimmst (auf beiden Seiten des Diagramms).\n",
    "\n",
    "Der Einfachheit halber, verwenden wir im Unterricht `GPIO.BCM` und **nicht** `GPIO.BOARD`.\n",
    "Alle von uns markierten Pins auf der Platine sind funktionale Pins, z.B. haben wir den Buzzer mit `GPI01` unter Funktionsmodus (die Spalte mit der Bezeichnung Name) markiert, aber wir müssen den Buzzer mit `GPI018` im BCM-Modus programmieren.\n",
    "\n",
    "---\n",
    "\n",
    "## Python\n",
    "\n",
    "Als nächstes werden wir eine kurze Einführung in Python geben.\n",
    "Python ist populäre Programmiersprache, und eine sehr einfache.\n",
    "\n",
    "In unserem Unterricht werden wir Python3, die neueste Python-Version, verwenden. beginnen wir mit einigen einfachen Anweisungen für den Einstieg in Python.\n",
    "\n",
    "Das erste Projekt für jeden, der Python lernt, ist `\"Hello World\"`. Wir können das erreichen, indem wir \"Hello World\" über unsere Konsole ausgeben, aber wie?\n",
    "Python hat eine eingebaute Funktion namens `\"print\"`, mit der wir alles in unserer Konsole ausgeben können. Versuchen wir es mal:"
   ]
  },
  {
   "cell_type": "code",
   "execution_count": null,
   "id": "ca2b567d",
   "metadata": {},
   "outputs": [],
   "source": [
    "print(\"Hello World\")"
   ]
  },
  {
   "cell_type": "markdown",
   "id": "bb63a30d",
   "metadata": {},
   "source": [
    "Gut gemacht!\n",
    "\n",
    "### Python- Bibliotheken\n",
    "\n",
    "Weiter geht es mit dem Thema Bibliotheken.\n",
    "Wir importieren die Bibliotheken am Anfang unseres Codes.\n",
    "Sie enthalten Funktionen, die wir aufrufen können, um bestimmte Befehle auszuführen.\n",
    "Die gebräuchlichsten Bibliotheken, die wir verwenden, sind `time` und `RPi.GPIO`."
   ]
  },
  {
   "cell_type": "code",
   "execution_count": null,
   "id": "076bf1dd",
   "metadata": {},
   "outputs": [],
   "source": [
    "import RPIO.GPIO as GPIO\n",
    "import time"
   ]
  },
  {
   "cell_type": "markdown",
   "id": "62dc2880",
   "metadata": {},
   "source": [
    "Die `RPi.GPIO`-Bibliothek erlaubt es uns, Befehle auszuführen, die `GPIO INPUT` und `OUTPUT` steuern, wie wir es oben bei der Einführung der `GPIO`-Pins besprochen haben.\n",
    "\n",
    "Die Zeitbibliothek ermöglicht es uns, das Programm zu verzögern, damit wir genug Zeit haben, um eine bestimmte Funktion auszuführen.\n",
    "Wir verwenden dazu die Funktion `sleep` innerhalb der Zeitbibliothek. Zum Beispiel:"
   ]
  },
  {
   "cell_type": "code",
   "execution_count": null,
   "id": "85a89a93",
   "metadata": {},
   "outputs": [],
   "source": [
    "time.sleep(1)"
   ]
  },
  {
   "cell_type": "markdown",
   "id": "eab24501",
   "metadata": {},
   "source": [
    "Mit dem Befehl `time.sleep(1)` wartet unsere Software 1 Sekunde bevor sie weiterarbeitet.\n",
    "\n",
    "### Variablen\n",
    "\n",
    "Kommen wir nun zu den Variablen.\n",
    "Variablen ermöglichen es uns, Daten im Speicher zu halten und Informationen kurzfristig zu speichern, während unser Programm läuft.\n",
    "Wir können unterschiedliche _Datentypen_ speichern: ein Wort, einen Satz, eine Zahl oder sogar eine \"Flag\", die angibt, ob etwas wahr oder falsch ist (_Boolean_)."
   ]
  },
  {
   "cell_type": "code",
   "execution_count": null,
   "id": "c753cd09",
   "metadata": {},
   "outputs": [],
   "source": [
    "name \"tomala\""
   ]
  },
  {
   "cell_type": "markdown",
   "id": "6cd87574",
   "metadata": {},
   "source": [
    "In diesem Beispiel habe ich meinen Namen in der Variablen \"name\" als String gespeichert, wie sieht es mit den Zahlen aus?"
   ]
  },
  {
   "cell_type": "code",
   "execution_count": null,
   "id": "915bf381",
   "metadata": {},
   "outputs": [],
   "source": [
    "raspberrypi_version = 3"
   ]
  },
  {
   "cell_type": "markdown",
   "id": "c3bf6ec9",
   "metadata": {},
   "source": [
    "Wir haben die ganze Zahl 2 im Variablennamen \"raspberrypi*version\" gesprichert.\n",
    "Wenn wir die 2 in Anführungszeichen setzen, wie z.B. \"2\", ist es ein \\_String* (eine Zeichenkette), kein _Integer_ (keine ganze Zahl)!\n",
    "Wir können auch einen Komma-Wert, auch _Float_ genannt, wie folgt speichern:"
   ]
  },
  {
   "cell_type": "code",
   "execution_count": null,
   "id": "99b41281",
   "metadata": {},
   "outputs": [],
   "source": [
    "raspberrypi_version = 3.2"
   ]
  },
  {
   "cell_type": "markdown",
   "id": "a3e39898",
   "metadata": {},
   "source": [
    "Der letzte Datentyp heißt _Boolean_.\n",
    "Wir verwenden es normalerweise, um anzugeben, ob etwas bereits geschehen ist oder nicht. Zum Beispiel:\n",
    "\n",
    "```\n",
    "hatte_fruehstueck = True\n",
    "hatte_abendessen = False\n",
    "```\n",
    "\n",
    "Hier haben wir angegeben, dass wir gefrühstückt und noch nicht zu Abend gegessen haben.\n",
    "\n",
    "Gute Arbeit!\n",
    "Bis jetzt haben wir gelernt, wie man Bibliotheken importiert und Daten wie Zahlen, Wörter oder Sätze mit Hilfe von Variablen zu speichert.\n",
    "Wie sieht es mit Bedingungen aus?\n",
    "\n",
    "### Bedingungen\n",
    "\n",
    "Besonders wenn wir mit Booleschen (boolean) Werten arbeiten, wollen wir auch Bedingungen verwenden.\n",
    "Die erste Bedingung, die wir lernen, ist `if`: Wenn etwas gilt, dann ue folgendes, sonst etwas anderes tun. Zum Beispiel:\n",
    "\n",
    "```\n",
    "if(raspberrypi_version == 3):\n",
    "    neues_raspberrypi = True\n",
    "else\n",
    "    neues_raspberrypi = False\n",
    "```\n",
    "\n",
    "Perfekt! Du lernst so schnell!\n",
    "\n",
    "### Schleifen\n",
    "\n",
    "Wenn wir nun über Bedingungen Bescheid wissen, wie sieht es dann mit `loops` (Schleifen) aus?\n",
    "Schleifen ermöglichen es uns, etwas zu tun und es entweder für immer oder unter bestimmten Bedingungen zu wiederholen.\n",
    "In unserer Lektion werden wir zum Beispiel oft die `while`-Schleife verwenden, lernen wir sie kennen:"
   ]
  },
  {
   "cell_type": "code",
   "execution_count": null,
   "id": "97ebdcab",
   "metadata": {},
   "outputs": [],
   "source": [
    "number = 0\n",
    "while True :\n",
    "    number = number + 1\n",
    "print(number)\n",
    "time.sleep(1)"
   ]
  },
  {
   "cell_type": "markdown",
   "id": "9f628dd3",
   "metadata": {},
   "source": [
    "In dieser Anweisung definieren wir `number` als Integer 0.\n",
    "Dann lassen wir eine `while`-Schleife für immer laufen (`while True`, `True` steht da und ändert sich nie, also wird es eine Endlosschleife).\n",
    "Dann erhöhen wir die Zahl um 1, geben die Zahl in unserer Konsole aus und warten 1 Sekunde, bevor wir das Ganze noch einmal wiederholen.\n",
    "\n",
    "Versuchen Sie, diesen Teil des Codes auszuführen, was wird passieren? Wird das Programm jemals aufhören?\n",
    "Wird die Zahl 0 bleiben?\n",
    "\n",
    "---\n",
    "\n",
    "### Fazit\n",
    "\n",
    "Gut gemacht! Wiederholen wir kurz, was wir gelernt haben: Wir können Variablen verwenden, um Informationen wie Integer, Strings, Floats und Boolean zu speichern.\n",
    "Wir können Bibliotheken wie `GPIO` und `time` sowie interne Funktionen wie `time.sleep()` importieren.\n",
    "Wir können Dinge mit dem Befehl `print()` ausgeben, der in Python eingebaut ist.\n",
    "Wir können Schleifen mit `while` laufen lassen.\n",
    "Wenn die Anweisung weiterläuft, wird die Schleife weiter ausgeführt, bis wir das Programm beenden.\n",
    "Wir können auch Bedingungen wie `if` und `else` verwenden, um zu prüfen, ob etwas passiert, z. B. eine Variablenänderung, und dann einen darauf basierenden Befehl ausführen.\n",
    "Nachdem wir nun die Python-Grundlagen gelernt haben, sind wir startklar!\n",
    "Lasst uns mit unseren Lektionen fortfahren."
   ]
  }
 ],
 "metadata": {
  "jupytext": {
   "text_representation": {
    "extension": ".md",
    "format_name": "myst",
    "format_version": 0.13,
    "jupytext_version": "1.10.3"
   }
  },
  "kernelspec": {
   "display_name": "Python 3.9",
   "language": "python",
   "name": "python3"
  },
  "source_map": [
   12,
   45,
   47,
   58,
   61,
   68,
   70,
   80,
   82,
   86,
   88,
   94,
   96,
   132,
   138
  ]
 },
 "nbformat": 4,
 "nbformat_minor": 5
}