{
 "cells": [
  {
   "cell_type": "markdown",
   "id": "93c0f8a8",
   "metadata": {},
   "source": [
    "(einen_buzzer_summen_lassen)=\n",
    "\n",
    "# Einen Buzzer summen lassen\n",
    "\n",
    "(was_ist_ein_buzzer)=\n",
    "\n",
    "## Was ist ein Buzzer?\n",
    "\n",
    "Ich freue mich auf unsere erste formale Programmierstunde, Sie auch?\n",
    "In dieser Lektion werden wir lernen, wie wir unser erstes Modul steuern können: den Summer (`buzzer`, siehe {numref}`text %s <buzzer>`).\n",
    "\n",
    "```{figure} ./img/buzzer.png\n",
    ":name: buzzer\n",
    "\n",
    "Schematische Darstellung des Summers. | Lutz Tomala 2021\n",
    "```\n",
    "\n",
    "Was ist ein Buzzer, fragst du dich?\n",
    "Der Buzzer ist ein Ausgangsmodul, das einen Ton erzeugt, wenn er von elektrischem Strom durchflossen wird.\n",
    "Aufgrund der besonderen Struktur des Buzzers vibriert er periodisch und wandelt so den die elektrischen Signale in akkustische (hörbare) um (siehe {numref}`text %s <piezo_buzzer>`).\n",
    "\n",
    "<!--\n",
    "```{figure} ./img/piezo_buzzer.png\n",
    ":name: piezo_buzzer\n",
    "\n",
    "Schematischer Querschnitt eines Summers. | Lutz Tomala 2021\n",
    "```\n",
    "-->\n",
    "\n",
    "(buzzer_python)=\n",
    "\n",
    "# Den Buzzer mit Python ansteuern\n",
    "\n",
    "Es gibt zwei Pins des Summers, `GND` und `GPIO18`, was bedeutet, dass der Summer an den `GPIO`-Pin 18 (`GPIO.BCM`-Modus) des RPi angeschlossen ist, um die digitalen Ausgangssignale zu senden, und der `GND` ist zum Schließen des Stromkreises.\n",
    "Wie können wir also den Summer durch Python aktivieren?\n",
    "\n",
    "Lasst uns zunächst unseren ersten Befehl schreiben:"
   ]
  },
  {
   "cell_type": "code",
   "execution_count": null,
   "id": "0fb74f06",
   "metadata": {},
   "outputs": [],
   "source": [
    "import RPi.GPIO as GPIO"
   ]
  },
  {
   "cell_type": "markdown",
   "id": "b186d278",
   "metadata": {},
   "source": [
    "Die `RPi.GPIO` Bibliothek ist eine offizielle Raspberry Pi-Bibliothek zur Steuerung der `GPIO`-Pins für die Programmiersprache Python.\n",
    "Da `RPi.GPIO` ist zu lang, um es oft zu schreiben, nutzen wir eine Abkürzung und importieren die `RPi.GPIO`-Bibliothek und als sie `GPIO`.\n",
    "\n",
    "Die zweite Bibliothek, die wir importieren müssen, ist `time`.\n",
    "Eine große Bibliothek, aber wir werden eine sehr spezifische Funktion namens `sleep` verwenden, um um eine kleine Zeitspanne zu warten und unseren Summer nur eine Weile summer zu lassen, bevor wir ihn abschalten."
   ]
  },
  {
   "cell_type": "code",
   "execution_count": null,
   "id": "cbfb12b2",
   "metadata": {},
   "outputs": [],
   "source": [
    "import time"
   ]
  },
  {
   "cell_type": "markdown",
   "id": "9ff01564",
   "metadata": {},
   "source": [
    "Wir haben gelernt, dass der Buzzer-Pin, an den der RPi angeschlossen ist, `GPIO18` ist.\n",
    "Also werden wir den Buzzer-Pin auf 18 setzen."
   ]
  },
  {
   "cell_type": "code",
   "execution_count": null,
   "id": "1f0e7d7f",
   "metadata": {},
   "outputs": [],
   "source": [
    "buzzer_pin = 18"
   ]
  },
  {
   "cell_type": "markdown",
   "id": "c02d5c0e",
   "metadata": {},
   "source": [
    "Außerdem müssen wir den richtigen GPIO-Modus wählen (`GPIO.BCM`)"
   ]
  },
  {
   "cell_type": "code",
   "execution_count": null,
   "id": "9f03cf75",
   "metadata": {},
   "outputs": [],
   "source": [
    "GPIO.setmode(GPIO.BCM)"
   ]
  },
  {
   "cell_type": "markdown",
   "id": "23dbcaf2",
   "metadata": {},
   "source": [
    "Wie bereits erwähnt, verwenden wir den Modus `GPIO.BCM`, um auf die `GPIO`-Pins zu verweisen.\n",
    "Der Summer ist an `GPIO18` auf `GPIO.BCM` angeschlossen, aber nicht auf `GPIO.BOARD`.\n",
    "\n",
    "Stelle den Buzzer-Pin auf den Modus `OUTPUT` ein:"
   ]
  },
  {
   "cell_type": "code",
   "execution_count": null,
   "id": "0bc2b6c5",
   "metadata": {},
   "outputs": [],
   "source": [
    "GPIO.setup (buzzer_pin, GPIO.OUT)"
   ]
  },
  {
   "cell_type": "markdown",
   "id": "4a419d28",
   "metadata": {},
   "source": [
    "Der Summer ist ein Ausgangsmodul, das nur gesteuert werden kann, wenn es ein Signal empfängt (es kann keine an den RPi senden).\n",
    "Daher müssen wir den `buzzer_pin` auf `GPIO.OUT` setzen.\n",
    "\n",
    "Lasse den Summer ertönen durch Eingabe von:"
   ]
  },
  {
   "cell_type": "code",
   "execution_count": null,
   "id": "e357dc73",
   "metadata": {},
   "outputs": [],
   "source": [
    "GPIO.output(buzzer_pin, GPIO.HIGH)"
   ]
  },
  {
   "cell_type": "markdown",
   "id": "49047476",
   "metadata": {},
   "source": [
    "Im Allgemeinen wird jedes Modul aktiviert, wenn wir es auf `GPIO.HIGH` setzen.\n",
    "Wir können `GPIO.HIGH` als ON-Befehl bezeichnen.\n",
    "Bei einigen Modulen kann dies je nach Hardware-Struktur anders sein, aber im Allgemeinen funktioniert es so.\n",
    "Durch Senden des Ausgangsbefehls `GPIO.HIGH` aktivieren wir das Modul.\n",
    "\n",
    "Wir wollen unsere Ohren nicht beschädigen, also wollen wir eine bestimmte Zeit einstellen, in der der Buzzer funktioniert, z.B. eine halbe Sekunde.\n",
    "Dazu setzen wir `time.sleep` auf 0,5 Sekunden."
   ]
  },
  {
   "cell_type": "code",
   "execution_count": null,
   "id": "a7a07096",
   "metadata": {},
   "outputs": [],
   "source": [
    "time.sleep (0.5)"
   ]
  },
  {
   "cell_type": "markdown",
   "id": "edc5614d",
   "metadata": {},
   "source": [
    "Die Anweisung `time.sleep` friert unser Programm für 0,5 Sekunden ein und fährt danach mit dem nächsten Befehl fort.\n",
    "Durch das Einfrieren nach dem `GPIO.HIGH`-Befehl schalten wir den Summer für 0,5 Sekunden ein, bevor wir mit dem nächsten Befehl fortfahren, der ihn ausschaltet.\n",
    "\n",
    "Nach 0,5 Sekunden wollen wir den Buzzer stoppen. Wenn wir den Summer anhalten wollen, müssen wir das `GPIO.LOW`-Signal verwenden, sonst wird er nicht gestoppt."
   ]
  },
  {
   "cell_type": "code",
   "execution_count": null,
   "id": "5ed421ef",
   "metadata": {},
   "outputs": [],
   "source": [
    "GPIO.output (buzzer_pin, GPIO.LOW)"
   ]
  },
  {
   "cell_type": "markdown",
   "id": "0eb09325",
   "metadata": {},
   "source": [
    "<!-- ```{figure} ./img/buzzer_hilo.png\n",
    ":name: buzzer_hilo\n",
    "\n",
    "Schematischer Darstellung der Ein- und Ausgangssignale am Summer. | Lutz Tomala 2021\n",
    "```\n",
    "-->\n",
    "\n",
    "Dann bereinigen Sie die `GPIO`-Pins, um sicherzustellen, dass wir sie wieder verwenden können, indem wir sie eingeben."
   ]
  },
  {
   "cell_type": "code",
   "execution_count": null,
   "id": "b8c18c0e",
   "metadata": {},
   "outputs": [],
   "source": [
    "GPIO.cleanup()"
   ]
  },
  {
   "cell_type": "markdown",
   "id": "83e2609c",
   "metadata": {},
   "source": [
    "Das Aufräumen der `GPIO`s ermöglicht es uns, die gleichen Pins später für andere Zwecke zu verwenden.\n",
    "\n",
    "Wenn du endlich das ganze Skript ausführst, wirst du feststellen, dass der Summer einmalig 0,5 Sekunden lang piept.\n",
    "Gibt es eine Möglichkeit, den Buzzer mehrmals piepen zu lassen?\n",
    "Oder versuch mal, die Verzögerungszeit selbst zu ändern, um ein längeres Summgeräusch zu erhalten!"
   ]
  },
  {
   "cell_type": "code",
   "execution_count": null,
   "id": "bf001451",
   "metadata": {},
   "outputs": [],
   "source": [
    "import RPi.GPIO as GPIO\n",
    "import time\n",
    "\n",
    "buzzer_pin = 18\n",
    "GPIO.setmode(GPIO.BCM)\n",
    "GPIO. setup (buzzer_pin, GPIO.OUT)\n",
    "\n",
    "# Make buzzer sound\n",
    "GPIO.output (buzzer_pin, GPIO.HIGH)\n",
    "time.sleep (0.5)\n",
    "# Stop buzzer sound\n",
    "GPIO.output (buzzer_pin, GPIO.LOW)\n",
    "GPIO.cleanup()"
   ]
  }
 ],
 "metadata": {
  "jupytext": {
   "text_representation": {
    "extension": ".md",
    "format_name": "myst",
    "format_version": 0.13,
    "jupytext_version": "1.10.3"
   }
  },
  "kernelspec": {
   "display_name": "Python 3.9",
   "language": "python",
   "name": "python3"
  },
  "source_map": [
   12,
   52,
   54,
   62,
   64,
   69,
   71,
   75,
   77,
   84,
   86,
   93,
   95,
   105,
   107,
   114,
   116,
   127,
   129,
   137
  ]
 },
 "nbformat": 4,
 "nbformat_minor": 5
}