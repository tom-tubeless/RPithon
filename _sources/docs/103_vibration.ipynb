{
 "cells": [
  {
   "cell_type": "markdown",
   "id": "d53a2b37",
   "metadata": {},
   "source": [
    "# Vibration\n",
    "\n",
    "In dieser Lektion werden wir das Vibrationsmodul besprechen!\n",
    "Wisst ihr was ein Vibrationsmodul ist?\n",
    "\n",
    "```{figure} ./img/vibration_module.png\n",
    ":name: vibration_module\n",
    "\n",
    "Das Vibrationsmodul auf dem Crowpi 2. | Lutz Tomala 2021\n",
    "```\n",
    "\n",
    "## So funktioniert das Vibrationsmodul\n",
    "\n",
    "```{admonition} Nerd-Kram 🤓\n",
    "Ein Vibrationsmotor ist ein linearer Resonanzantrieb, der eine oszillierende (zu- und abnehmende) Kraft über eine einzige Achse erzeugt.\n",
    "Im Gegensatz zu einem Gleichstrom-Exzenter ist er auf eine lineare Wechselspannung angewiesen, um eine Schwingspule anzutreiben, die gegen eine bewegliche rotierende Masse (ERM) gedrückt wird, die mit einer Feder verbunden ist.\n",
    "Wenn die Schwingspule mit der Resonanzfrequenz der Feder angetrieben wird, schwingt der gesamte Aktor mit einer wahrnehmbaren Kraft.\n",
    "```\n",
    "\n",
    "<!-- ```{figure} ./img/linear_resonant_actuator.png\n",
    ":name: linear_resonant_actuator\n",
    "\n",
    "Scheamtische Explosionsdarstellung eines Rinear Resonant Actuator. | Lutz Tomala 2021\n",
    "```\n",
    "-->\n",
    "\n",
    "Wir können das Vibrationsmodul für mehrere Anwendungen verwenden, wie wie Alarm und Benachrichtigungen.\n",
    "In diesem Tutorial lernen wir lernen wir, wie man ein OUTPUT-Signal an den Vibrationsmotor sendet und Motor sendet und ihn zum Laufen bringt."
   ]
  }
 ],
 "metadata": {
  "jupytext": {
   "text_representation": {
    "extension": ".md",
    "format_name": "myst",
    "format_version": 0.13,
    "jupytext_version": "1.10.3"
   }
  },
  "kernelspec": {
   "display_name": "Python 3.9",
   "language": "python",
   "name": "python3"
  },
  "language_info": {
   "codemirror_mode": {
    "name": "ipython",
    "version": 3
   },
   "file_extension": ".py",
   "mimetype": "text/x-python",
   "name": "python",
   "nbconvert_exporter": "python",
   "pygments_lexer": "ipython3",
   "version": "3.9.6"
  },
  "source_map": [
   12
  ]
 },
 "nbformat": 4,
 "nbformat_minor": 5
}